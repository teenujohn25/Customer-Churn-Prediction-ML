{
 "cells": [
  {
   "cell_type": "code",
   "execution_count": 22,
   "id": "5c636bcc",
   "metadata": {},
   "outputs": [
    {
     "name": "stdout",
     "output_type": "stream",
     "text": [
      "Data shape: (7032, 19) (7032,)\n",
      "Features: ['gender', 'SeniorCitizen', 'Partner', 'Dependents', 'tenure', 'PhoneService', 'MultipleLines', 'InternetService', 'OnlineSecurity', 'OnlineBackup', 'DeviceProtection', 'TechSupport', 'StreamingTV', 'StreamingMovies', 'Contract', 'PaperlessBilling', 'PaymentMethod', 'MonthlyCharges', 'TotalCharges']\n"
     ]
    }
   ],
   "source": [
    "import pandas as pd\n",
    "\n",
    "# Load dataset\n",
    "df = pd.read_csv(\"Telco_Customer_Churn.csv\")\n",
    "\n",
    "# Drop customerID (not useful)\n",
    "df.drop(\"customerID\", axis=1, inplace=True)\n",
    "\n",
    "# Convert TotalCharges to numeric\n",
    "df[\"TotalCharges\"] = pd.to_numeric(df[\"TotalCharges\"], errors=\"coerce\")\n",
    "df.dropna(inplace=True)\n",
    "\n",
    "# Target variable\n",
    "y = df[\"Churn\"].map({\"Yes\": 1, \"No\": 0})\n",
    "X = df.drop(\"Churn\", axis=1)\n",
    "\n",
    "print(\"Data shape:\", X.shape, y.shape)\n",
    "print(\"Features:\", X.columns.tolist())\n",
    "\n"
   ]
  },
  {
   "cell_type": "markdown",
   "id": "db17a1cb",
   "metadata": {},
   "source": [
    "Step 2: Train/Test Split and Baseline Models"
   ]
  },
  {
   "cell_type": "code",
   "execution_count": 23,
   "id": "bc4204a7",
   "metadata": {},
   "outputs": [
    {
     "name": "stdout",
     "output_type": "stream",
     "text": [
      "Train: (5625, 19)  Test: (1407, 19)\n"
     ]
    }
   ],
   "source": [
    "from sklearn.model_selection import train_test_split\n",
    "\n",
    "X_train, X_test, y_train, y_test = train_test_split(\n",
    "    X, y, test_size=0.2, stratify=y, random_state=42\n",
    ")\n",
    "print(\"Train:\", X_train.shape, \" Test:\", X_test.shape)\n"
   ]
  },
  {
   "cell_type": "code",
   "execution_count": 24,
   "id": "e08cc0b4",
   "metadata": {},
   "outputs": [
    {
     "name": "stdout",
     "output_type": "stream",
     "text": [
      "Best Parameters: {'classifier__C': 0.01, 'classifier__penalty': 'l2'}\n",
      "Best CV Accuracy: 0.8046222222222223\n",
      "\n",
      "Internal Test Performance:\n",
      "Accuracy: 0.7967306325515281\n",
      "Precision: 0.6486486486486487\n",
      "Recall: 0.5133689839572193\n",
      "F1 Score: 0.573134328358209\n",
      "Saved: best_model.joblib\n"
     ]
    }
   ],
   "source": [
    "from sklearn.model_selection import GridSearchCV\n",
    "from sklearn.linear_model import LogisticRegression\n",
    "from sklearn.compose import ColumnTransformer\n",
    "from sklearn.preprocessing import OneHotEncoder, StandardScaler\n",
    "from sklearn.pipeline import Pipeline\n",
    "from sklearn.impute import SimpleImputer\n",
    "import joblib\n",
    "from sklearn.metrics import accuracy_score, precision_score, recall_score, f1_score\n",
    "\n",
    "# Preprocessing\n",
    "numeric_features = [\"tenure\", \"MonthlyCharges\", \"TotalCharges\"]\n",
    "categorical_features = [col for col in X.columns if col not in numeric_features]\n",
    "\n",
    "numeric_transformer = Pipeline(steps=[\n",
    "    (\"imputer\", SimpleImputer(strategy=\"median\")),\n",
    "    (\"scaler\", StandardScaler())\n",
    "])\n",
    "\n",
    "categorical_transformer = Pipeline(steps=[\n",
    "    (\"imputer\", SimpleImputer(strategy=\"most_frequent\")),\n",
    "    (\"onehot\", OneHotEncoder(handle_unknown=\"ignore\"))\n",
    "])\n",
    "\n",
    "preprocessor = ColumnTransformer(\n",
    "    transformers=[\n",
    "        (\"num\", numeric_transformer, numeric_features),\n",
    "        (\"cat\", categorical_transformer, categorical_features)\n",
    "    ]\n",
    ")\n",
    "\n",
    "# Pipeline with Logistic Regression\n",
    "log_reg = LogisticRegression(max_iter=2000, solver=\"liblinear\")\n",
    "\n",
    "pipeline = Pipeline(steps=[\n",
    "    (\"preprocessor\", preprocessor),\n",
    "    (\"classifier\", log_reg)\n",
    "])\n",
    "\n",
    "# Hyperparameter tuning\n",
    "param_grid = {\n",
    "    \"classifier__C\": [0.01, 0.1, 1, 5, 10],\n",
    "    \"classifier__penalty\": [\"l1\", \"l2\"]\n",
    "}\n",
    "\n",
    "grid = GridSearchCV(pipeline, param_grid, cv=5, scoring=\"accuracy\", n_jobs=-1)\n",
    "grid.fit(X_train, y_train)\n",
    "\n",
    "# Best pipeline\n",
    "final_pipeline = grid.best_estimator_\n",
    "print(\"Best Parameters:\", grid.best_params_)\n",
    "print(\"Best CV Accuracy:\", grid.best_score_)\n",
    "\n",
    "# Evaluate on internal test\n",
    "y_pred = final_pipeline.predict(X_test)\n",
    "print(\"\\nInternal Test Performance:\")\n",
    "print(\"Accuracy:\", accuracy_score(y_test, y_pred))\n",
    "print(\"Precision:\", precision_score(y_test, y_pred))\n",
    "print(\"Recall:\", recall_score(y_test, y_pred))\n",
    "print(\"F1 Score:\", f1_score(y_test, y_pred))\n",
    "\n",
    "# Save pipeline\n",
    "joblib.dump(final_pipeline, \"best_model.joblib\")\n",
    "print(\"Saved: best_model.joblib\")\n"
   ]
  },
  {
   "cell_type": "code",
   "execution_count": 25,
   "id": "dd03c007",
   "metadata": {},
   "outputs": [
    {
     "name": "stdout",
     "output_type": "stream",
     "text": [
      "\n",
      "External Test Performance:\n",
      "Accuracy: 0.54\n",
      "Precision: 0.6666666666666666\n",
      "Recall: 0.0425531914893617\n",
      "F1 Score: 0.08\n"
     ]
    }
   ],
   "source": [
    "# Load external test dataset\n",
    "test_df = pd.read_excel(\"TEST_DATA.xlsx\")\n",
    "\n",
    "# Clean same as training\n",
    "test_df.drop(\"customerID\", axis=1, inplace=True)\n",
    "test_df[\"TotalCharges\"] = pd.to_numeric(test_df[\"TotalCharges\"], errors=\"coerce\")\n",
    "test_df.dropna(inplace=True)\n",
    "\n",
    "# Features & target\n",
    "y_test_ext = test_df[\"Churn\"].map({\"Yes\": 1, \"No\": 0})\n",
    "X_test_ext = test_df.drop(\"Churn\", axis=1)\n",
    "\n",
    "# Load pipeline\n",
    "pipeline = joblib.load(\"best_model.joblib\")\n",
    "\n",
    "# Predict\n",
    "y_pred_ext = pipeline.predict(X_test_ext)\n",
    "\n",
    "# Metrics\n",
    "print(\"\\nExternal Test Performance:\")\n",
    "print(\"Accuracy:\", accuracy_score(y_test_ext, y_pred_ext))\n",
    "print(\"Precision:\", precision_score(y_test_ext, y_pred_ext))\n",
    "print(\"Recall:\", recall_score(y_test_ext, y_pred_ext))\n",
    "print(\"F1 Score:\", f1_score(y_test_ext, y_pred_ext))\n"
   ]
  },
  {
   "cell_type": "markdown",
   "id": "721bbd67",
   "metadata": {},
   "source": [
    "\n",
    "Results Data Summary"
   ]
  },
  {
   "cell_type": "code",
   "execution_count": 26,
   "id": "6975a52e",
   "metadata": {},
   "outputs": [
    {
     "name": "stdout",
     "output_type": "stream",
     "text": [
      "Results saved: results_summary.xlsx\n"
     ]
    }
   ],
   "source": [
    "results_data = [\n",
    "    {\n",
    "        \"Dataset\": \"Internal Test\",\n",
    "        \"Accuracy\": accuracy_score(y_test, y_pred),\n",
    "        \"Precision\": precision_score(y_test, y_pred),\n",
    "        \"Recall\": recall_score(y_test, y_pred),\n",
    "        \"F1 Score\": f1_score(y_test, y_pred),\n",
    "        \"Best Parameters\": grid.best_params_\n",
    "    },\n",
    "    {\n",
    "        \"Dataset\": \"External Test\",\n",
    "        \"Accuracy\": accuracy_score(y_test_ext, y_pred_ext),\n",
    "        \"Precision\": precision_score(y_test_ext, y_pred_ext),\n",
    "        \"Recall\": recall_score(y_test_ext, y_pred_ext),\n",
    "        \"F1 Score\": f1_score(y_test_ext, y_pred_ext),\n",
    "        \"Best Parameters\": grid.best_params_\n",
    "    }\n",
    "]\n",
    "\n",
    "pd.DataFrame(results_data).to_excel(\"results_summary.xlsx\", index=False)\n",
    "print(\"Results saved: results_summary.xlsx\")\n"
   ]
  },
  {
   "cell_type": "code",
   "execution_count": null,
   "id": "9b4923c8",
   "metadata": {},
   "outputs": [],
   "source": []
  }
 ],
 "metadata": {
  "kernelspec": {
   "display_name": "base",
   "language": "python",
   "name": "python3"
  },
  "language_info": {
   "codemirror_mode": {
    "name": "ipython",
    "version": 3
   },
   "file_extension": ".py",
   "mimetype": "text/x-python",
   "name": "python",
   "nbconvert_exporter": "python",
   "pygments_lexer": "ipython3",
   "version": "3.12.7"
  }
 },
 "nbformat": 4,
 "nbformat_minor": 5
}
